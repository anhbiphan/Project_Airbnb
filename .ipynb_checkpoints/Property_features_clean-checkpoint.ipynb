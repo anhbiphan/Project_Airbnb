{
 "cells": [
  {
   "cell_type": "markdown",
   "metadata": {},
   "source": [
    "# Cleaning Property_features table"
   ]
  },
  {
   "cell_type": "code",
   "execution_count": 1,
   "metadata": {},
   "outputs": [],
   "source": [
    "import pandas as pd"
   ]
  },
  {
   "cell_type": "code",
   "execution_count": 35,
   "metadata": {},
   "outputs": [],
   "source": [
    "df = pd.read_csv('split_property_features.csv')"
   ]
  },
  {
   "cell_type": "code",
   "execution_count": 36,
   "metadata": {},
   "outputs": [
    {
     "data": {
      "text/html": [
       "<div>\n",
       "<style scoped>\n",
       "    .dataframe tbody tr th:only-of-type {\n",
       "        vertical-align: middle;\n",
       "    }\n",
       "\n",
       "    .dataframe tbody tr th {\n",
       "        vertical-align: top;\n",
       "    }\n",
       "\n",
       "    .dataframe thead th {\n",
       "        text-align: right;\n",
       "    }\n",
       "</style>\n",
       "<table border=\"1\" class=\"dataframe\">\n",
       "  <thead>\n",
       "    <tr style=\"text-align: right;\">\n",
       "      <th></th>\n",
       "      <th>id</th>\n",
       "      <th>street</th>\n",
       "      <th>neighbourhood</th>\n",
       "      <th>city</th>\n",
       "      <th>state</th>\n",
       "      <th>zipcode</th>\n",
       "      <th>country_code</th>\n",
       "      <th>country</th>\n",
       "      <th>latitude</th>\n",
       "      <th>longitude</th>\n",
       "      <th>is_location_exact</th>\n",
       "      <th>property_type</th>\n",
       "      <th>room_type</th>\n",
       "      <th>accommodates</th>\n",
       "      <th>bathrooms</th>\n",
       "      <th>bedrooms</th>\n",
       "      <th>beds</th>\n",
       "      <th>bed_type</th>\n",
       "      <th>amenities</th>\n",
       "      <th>square_feet</th>\n",
       "    </tr>\n",
       "  </thead>\n",
       "  <tbody>\n",
       "    <tr>\n",
       "      <td>0</td>\n",
       "      <td>72635</td>\n",
       "      <td>West Slaughter Lane, Austin, TX 78749, United ...</td>\n",
       "      <td>Circle C</td>\n",
       "      <td>Austin</td>\n",
       "      <td>TX</td>\n",
       "      <td>78749.0</td>\n",
       "      <td>US</td>\n",
       "      <td>United States</td>\n",
       "      <td>30.202824</td>\n",
       "      <td>-97.884309</td>\n",
       "      <td>t</td>\n",
       "      <td>House</td>\n",
       "      <td>Private room</td>\n",
       "      <td>6</td>\n",
       "      <td>2.5</td>\n",
       "      <td>1.0</td>\n",
       "      <td>3.0</td>\n",
       "      <td>Real Bed</td>\n",
       "      <td>{\"Cable TV\",Internet,\"Wireless Internet\",\"Air ...</td>\n",
       "      <td>3600.0</td>\n",
       "    </tr>\n",
       "    <tr>\n",
       "      <td>1</td>\n",
       "      <td>5386323</td>\n",
       "      <td>Seneca Falls Loop, Austin, TX 78739, United St...</td>\n",
       "      <td>Circle C</td>\n",
       "      <td>Austin</td>\n",
       "      <td>TX</td>\n",
       "      <td>78739.0</td>\n",
       "      <td>US</td>\n",
       "      <td>United States</td>\n",
       "      <td>30.199414</td>\n",
       "      <td>-97.900684</td>\n",
       "      <td>t</td>\n",
       "      <td>Camper/RV</td>\n",
       "      <td>Private room</td>\n",
       "      <td>2</td>\n",
       "      <td>0.0</td>\n",
       "      <td>1.0</td>\n",
       "      <td>1.0</td>\n",
       "      <td>Futon</td>\n",
       "      <td>{\"Air Conditioning\",Heating,\"Family/Kid Friend...</td>\n",
       "      <td>NaN</td>\n",
       "    </tr>\n",
       "    <tr>\n",
       "      <td>2</td>\n",
       "      <td>8826517</td>\n",
       "      <td>Mordor Cove, Austin, TX 78739, United States</td>\n",
       "      <td>NaN</td>\n",
       "      <td>Austin</td>\n",
       "      <td>TX</td>\n",
       "      <td>78739.0</td>\n",
       "      <td>US</td>\n",
       "      <td>United States</td>\n",
       "      <td>30.168496</td>\n",
       "      <td>-97.864483</td>\n",
       "      <td>t</td>\n",
       "      <td>House</td>\n",
       "      <td>Private room</td>\n",
       "      <td>2</td>\n",
       "      <td>1.5</td>\n",
       "      <td>1.0</td>\n",
       "      <td>1.0</td>\n",
       "      <td>Real Bed</td>\n",
       "      <td>{TV,\"Cable TV\",Internet,\"Wireless Internet\",\"A...</td>\n",
       "      <td>NaN</td>\n",
       "    </tr>\n",
       "    <tr>\n",
       "      <td>3</td>\n",
       "      <td>8828616</td>\n",
       "      <td>Mordor Cove, Austin, TX 78739, United States</td>\n",
       "      <td>NaN</td>\n",
       "      <td>Austin</td>\n",
       "      <td>TX</td>\n",
       "      <td>78739.0</td>\n",
       "      <td>US</td>\n",
       "      <td>United States</td>\n",
       "      <td>30.168621</td>\n",
       "      <td>-97.864874</td>\n",
       "      <td>t</td>\n",
       "      <td>House</td>\n",
       "      <td>Private room</td>\n",
       "      <td>2</td>\n",
       "      <td>1.5</td>\n",
       "      <td>1.0</td>\n",
       "      <td>1.0</td>\n",
       "      <td>Real Bed</td>\n",
       "      <td>{TV,\"Cable TV\",Internet,\"Wireless Internet\",\"A...</td>\n",
       "      <td>NaN</td>\n",
       "    </tr>\n",
       "    <tr>\n",
       "      <td>4</td>\n",
       "      <td>8536913</td>\n",
       "      <td>Allamanda Drive, Austin, TX 78739, United States</td>\n",
       "      <td>NaN</td>\n",
       "      <td>Austin</td>\n",
       "      <td>TX</td>\n",
       "      <td>78739.0</td>\n",
       "      <td>US</td>\n",
       "      <td>United States</td>\n",
       "      <td>30.169426</td>\n",
       "      <td>-97.888319</td>\n",
       "      <td>t</td>\n",
       "      <td>House</td>\n",
       "      <td>Entire home/apt</td>\n",
       "      <td>6</td>\n",
       "      <td>2.0</td>\n",
       "      <td>3.0</td>\n",
       "      <td>3.0</td>\n",
       "      <td>Real Bed</td>\n",
       "      <td>{TV,\"Cable TV\",Internet,\"Wireless Internet\",\"A...</td>\n",
       "      <td>NaN</td>\n",
       "    </tr>\n",
       "  </tbody>\n",
       "</table>\n",
       "</div>"
      ],
      "text/plain": [
       "        id                                             street neighbourhood  \\\n",
       "0    72635  West Slaughter Lane, Austin, TX 78749, United ...      Circle C   \n",
       "1  5386323  Seneca Falls Loop, Austin, TX 78739, United St...      Circle C   \n",
       "2  8826517       Mordor Cove, Austin, TX 78739, United States           NaN   \n",
       "3  8828616       Mordor Cove, Austin, TX 78739, United States           NaN   \n",
       "4  8536913   Allamanda Drive, Austin, TX 78739, United States           NaN   \n",
       "\n",
       "     city state  zipcode country_code        country   latitude  longitude  \\\n",
       "0  Austin    TX  78749.0           US  United States  30.202824 -97.884309   \n",
       "1  Austin    TX  78739.0           US  United States  30.199414 -97.900684   \n",
       "2  Austin    TX  78739.0           US  United States  30.168496 -97.864483   \n",
       "3  Austin    TX  78739.0           US  United States  30.168621 -97.864874   \n",
       "4  Austin    TX  78739.0           US  United States  30.169426 -97.888319   \n",
       "\n",
       "  is_location_exact property_type        room_type  accommodates  bathrooms  \\\n",
       "0                 t         House     Private room             6        2.5   \n",
       "1                 t     Camper/RV     Private room             2        0.0   \n",
       "2                 t         House     Private room             2        1.5   \n",
       "3                 t         House     Private room             2        1.5   \n",
       "4                 t         House  Entire home/apt             6        2.0   \n",
       "\n",
       "   bedrooms  beds  bed_type  \\\n",
       "0       1.0   3.0  Real Bed   \n",
       "1       1.0   1.0     Futon   \n",
       "2       1.0   1.0  Real Bed   \n",
       "3       1.0   1.0  Real Bed   \n",
       "4       3.0   3.0  Real Bed   \n",
       "\n",
       "                                           amenities  square_feet  \n",
       "0  {\"Cable TV\",Internet,\"Wireless Internet\",\"Air ...       3600.0  \n",
       "1  {\"Air Conditioning\",Heating,\"Family/Kid Friend...          NaN  \n",
       "2  {TV,\"Cable TV\",Internet,\"Wireless Internet\",\"A...          NaN  \n",
       "3  {TV,\"Cable TV\",Internet,\"Wireless Internet\",\"A...          NaN  \n",
       "4  {TV,\"Cable TV\",Internet,\"Wireless Internet\",\"A...          NaN  "
      ]
     },
     "execution_count": 36,
     "metadata": {},
     "output_type": "execute_result"
    }
   ],
   "source": [
    "df.head()"
   ]
  },
  {
   "cell_type": "code",
   "execution_count": 37,
   "metadata": {},
   "outputs": [
    {
     "name": "stdout",
     "output_type": "stream",
     "text": [
      "<class 'pandas.core.frame.DataFrame'>\n",
      "RangeIndex: 5834 entries, 0 to 5833\n",
      "Data columns (total 20 columns):\n",
      "id                   5834 non-null int64\n",
      "street               5834 non-null object\n",
      "neighbourhood        4800 non-null object\n",
      "city                 5834 non-null object\n",
      "state                5834 non-null object\n",
      "zipcode              5809 non-null float64\n",
      "country_code         5834 non-null object\n",
      "country              5834 non-null object\n",
      "latitude             5834 non-null float64\n",
      "longitude            5834 non-null float64\n",
      "is_location_exact    5834 non-null object\n",
      "property_type        5834 non-null object\n",
      "room_type            5834 non-null object\n",
      "accommodates         5834 non-null int64\n",
      "bathrooms            5788 non-null float64\n",
      "bedrooms             5828 non-null float64\n",
      "beds                 5811 non-null float64\n",
      "bed_type             5834 non-null object\n",
      "amenities            5834 non-null object\n",
      "square_feet          302 non-null float64\n",
      "dtypes: float64(7), int64(2), object(11)\n",
      "memory usage: 911.7+ KB\n"
     ]
    }
   ],
   "source": [
    "df.info()"
   ]
  },
  {
   "cell_type": "code",
   "execution_count": 38,
   "metadata": {},
   "outputs": [],
   "source": [
    "# t = 0 , f = 1\n",
    "i = {'t':0, 'f':1}"
   ]
  },
  {
   "cell_type": "code",
   "execution_count": 39,
   "metadata": {},
   "outputs": [],
   "source": [
    "# converting column into boolean\n",
    "df.is_location_exact = df.is_location_exact.map(i)\n",
    "df.is_location_exact = df.is_location_exact.astype(float)"
   ]
  },
  {
   "cell_type": "code",
   "execution_count": 40,
   "metadata": {},
   "outputs": [
    {
     "data": {
      "text/plain": [
       "0       0.0\n",
       "1       0.0\n",
       "2       0.0\n",
       "3       0.0\n",
       "4       0.0\n",
       "       ... \n",
       "5829    0.0\n",
       "5830    0.0\n",
       "5831    0.0\n",
       "5832    1.0\n",
       "5833    0.0\n",
       "Name: is_location_exact, Length: 5834, dtype: float64"
      ]
     },
     "execution_count": 40,
     "metadata": {},
     "output_type": "execute_result"
    }
   ],
   "source": [
    "# conversion worked\n",
    "df.is_location_exact"
   ]
  },
  {
   "cell_type": "code",
   "execution_count": 42,
   "metadata": {},
   "outputs": [],
   "source": [
    "df.to_csv('1_property_features_clean.csv', index=False)"
   ]
  },
  {
   "cell_type": "code",
   "execution_count": null,
   "metadata": {},
   "outputs": [],
   "source": []
  }
 ],
 "metadata": {
  "kernelspec": {
   "display_name": "Python 3",
   "language": "python",
   "name": "python3"
  },
  "language_info": {
   "codemirror_mode": {
    "name": "ipython",
    "version": 3
   },
   "file_extension": ".py",
   "mimetype": "text/x-python",
   "name": "python",
   "nbconvert_exporter": "python",
   "pygments_lexer": "ipython3",
   "version": "3.6.9"
  }
 },
 "nbformat": 4,
 "nbformat_minor": 4
}
