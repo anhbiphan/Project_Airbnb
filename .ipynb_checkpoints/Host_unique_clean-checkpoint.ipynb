{
 "cells": [
  {
   "cell_type": "markdown",
   "metadata": {},
   "source": [
    "# Cleaning Host.csv\n",
    "- create a table with only unique host_id\n",
    "- table will be used as a reference to the host_id table in MySQL"
   ]
  },
  {
   "cell_type": "code",
   "execution_count": 2,
   "metadata": {},
   "outputs": [],
   "source": [
    "import pandas as pd"
   ]
  },
  {
   "cell_type": "code",
   "execution_count": 48,
   "metadata": {},
   "outputs": [],
   "source": [
    "host = pd.read_csv('split_host.csv')"
   ]
  },
  {
   "cell_type": "code",
   "execution_count": 49,
   "metadata": {},
   "outputs": [
    {
     "data": {
      "text/html": [
       "<div>\n",
       "<style scoped>\n",
       "    .dataframe tbody tr th:only-of-type {\n",
       "        vertical-align: middle;\n",
       "    }\n",
       "\n",
       "    .dataframe tbody tr th {\n",
       "        vertical-align: top;\n",
       "    }\n",
       "\n",
       "    .dataframe thead th {\n",
       "        text-align: right;\n",
       "    }\n",
       "</style>\n",
       "<table border=\"1\" class=\"dataframe\">\n",
       "  <thead>\n",
       "    <tr style=\"text-align: right;\">\n",
       "      <th></th>\n",
       "      <th>id</th>\n",
       "      <th>host_id</th>\n",
       "      <th>host_name</th>\n",
       "      <th>host_since</th>\n",
       "      <th>host_location</th>\n",
       "      <th>host_response_time</th>\n",
       "      <th>host_response_rate</th>\n",
       "      <th>host_acceptance_rate</th>\n",
       "      <th>host_is_superhost</th>\n",
       "      <th>host_neighbourhood</th>\n",
       "      <th>host_total_listings_count</th>\n",
       "      <th>host_verifications</th>\n",
       "      <th>host_has_profile_pic</th>\n",
       "      <th>host_identity_verified</th>\n",
       "    </tr>\n",
       "  </thead>\n",
       "  <tbody>\n",
       "    <tr>\n",
       "      <td>0</td>\n",
       "      <td>72635</td>\n",
       "      <td>377044</td>\n",
       "      <td>Jason &amp; Marcie</td>\n",
       "      <td>2011-02-04</td>\n",
       "      <td>Austin, Texas, United States</td>\n",
       "      <td>NaN</td>\n",
       "      <td>NaN</td>\n",
       "      <td>NaN</td>\n",
       "      <td>f</td>\n",
       "      <td>Circle C</td>\n",
       "      <td>1.0</td>\n",
       "      <td>['email', 'facebook', 'linkedin', 'reviews']</td>\n",
       "      <td>t</td>\n",
       "      <td>f</td>\n",
       "    </tr>\n",
       "    <tr>\n",
       "      <td>1</td>\n",
       "      <td>5386323</td>\n",
       "      <td>27922117</td>\n",
       "      <td>Michael</td>\n",
       "      <td>2015-02-17</td>\n",
       "      <td>Austin, Texas, United States</td>\n",
       "      <td>NaN</td>\n",
       "      <td>NaN</td>\n",
       "      <td>NaN</td>\n",
       "      <td>f</td>\n",
       "      <td>Circle C</td>\n",
       "      <td>1.0</td>\n",
       "      <td>['email', 'phone', 'google', 'kba']</td>\n",
       "      <td>t</td>\n",
       "      <td>t</td>\n",
       "    </tr>\n",
       "    <tr>\n",
       "      <td>2</td>\n",
       "      <td>8826517</td>\n",
       "      <td>46230038</td>\n",
       "      <td>Ric</td>\n",
       "      <td>2015-10-10</td>\n",
       "      <td>Austin, Texas, United States</td>\n",
       "      <td>NaN</td>\n",
       "      <td>NaN</td>\n",
       "      <td>NaN</td>\n",
       "      <td>f</td>\n",
       "      <td>NaN</td>\n",
       "      <td>2.0</td>\n",
       "      <td>['email', 'phone', 'linkedin', 'jumio']</td>\n",
       "      <td>t</td>\n",
       "      <td>t</td>\n",
       "    </tr>\n",
       "    <tr>\n",
       "      <td>3</td>\n",
       "      <td>8828616</td>\n",
       "      <td>46230038</td>\n",
       "      <td>Ric</td>\n",
       "      <td>2015-10-10</td>\n",
       "      <td>Austin, Texas, United States</td>\n",
       "      <td>NaN</td>\n",
       "      <td>NaN</td>\n",
       "      <td>NaN</td>\n",
       "      <td>f</td>\n",
       "      <td>NaN</td>\n",
       "      <td>2.0</td>\n",
       "      <td>['email', 'phone', 'linkedin', 'jumio']</td>\n",
       "      <td>t</td>\n",
       "      <td>t</td>\n",
       "    </tr>\n",
       "    <tr>\n",
       "      <td>4</td>\n",
       "      <td>8536913</td>\n",
       "      <td>31148752</td>\n",
       "      <td>Bo</td>\n",
       "      <td>2015-04-13</td>\n",
       "      <td>US</td>\n",
       "      <td>within a few hours</td>\n",
       "      <td>98%</td>\n",
       "      <td>81%</td>\n",
       "      <td>f</td>\n",
       "      <td>Holly</td>\n",
       "      <td>301.0</td>\n",
       "      <td>['email', 'phone', 'linkedin', 'reviews', 'jum...</td>\n",
       "      <td>t</td>\n",
       "      <td>t</td>\n",
       "    </tr>\n",
       "  </tbody>\n",
       "</table>\n",
       "</div>"
      ],
      "text/plain": [
       "        id   host_id       host_name  host_since  \\\n",
       "0    72635    377044  Jason & Marcie  2011-02-04   \n",
       "1  5386323  27922117         Michael  2015-02-17   \n",
       "2  8826517  46230038             Ric  2015-10-10   \n",
       "3  8828616  46230038             Ric  2015-10-10   \n",
       "4  8536913  31148752              Bo  2015-04-13   \n",
       "\n",
       "                  host_location  host_response_time host_response_rate  \\\n",
       "0  Austin, Texas, United States                 NaN                NaN   \n",
       "1  Austin, Texas, United States                 NaN                NaN   \n",
       "2  Austin, Texas, United States                 NaN                NaN   \n",
       "3  Austin, Texas, United States                 NaN                NaN   \n",
       "4                            US  within a few hours                98%   \n",
       "\n",
       "  host_acceptance_rate host_is_superhost host_neighbourhood  \\\n",
       "0                  NaN                 f           Circle C   \n",
       "1                  NaN                 f           Circle C   \n",
       "2                  NaN                 f                NaN   \n",
       "3                  NaN                 f                NaN   \n",
       "4                  81%                 f              Holly   \n",
       "\n",
       "   host_total_listings_count  \\\n",
       "0                        1.0   \n",
       "1                        1.0   \n",
       "2                        2.0   \n",
       "3                        2.0   \n",
       "4                      301.0   \n",
       "\n",
       "                                  host_verifications host_has_profile_pic  \\\n",
       "0       ['email', 'facebook', 'linkedin', 'reviews']                    t   \n",
       "1                ['email', 'phone', 'google', 'kba']                    t   \n",
       "2            ['email', 'phone', 'linkedin', 'jumio']                    t   \n",
       "3            ['email', 'phone', 'linkedin', 'jumio']                    t   \n",
       "4  ['email', 'phone', 'linkedin', 'reviews', 'jum...                    t   \n",
       "\n",
       "  host_identity_verified  \n",
       "0                      f  \n",
       "1                      t  \n",
       "2                      t  \n",
       "3                      t  \n",
       "4                      t  "
      ]
     },
     "execution_count": 49,
     "metadata": {},
     "output_type": "execute_result"
    }
   ],
   "source": [
    "host.head()"
   ]
  },
  {
   "cell_type": "code",
   "execution_count": 50,
   "metadata": {},
   "outputs": [
    {
     "name": "stdout",
     "output_type": "stream",
     "text": [
      "<class 'pandas.core.frame.DataFrame'>\n",
      "RangeIndex: 5834 entries, 0 to 5833\n",
      "Data columns (total 14 columns):\n",
      "id                           5834 non-null int64\n",
      "host_id                      5834 non-null int64\n",
      "host_name                    5819 non-null object\n",
      "host_since                   5819 non-null object\n",
      "host_location                5809 non-null object\n",
      "host_response_time           4176 non-null object\n",
      "host_response_rate           4176 non-null object\n",
      "host_acceptance_rate         3850 non-null object\n",
      "host_is_superhost            5819 non-null object\n",
      "host_neighbourhood           4977 non-null object\n",
      "host_total_listings_count    5819 non-null float64\n",
      "host_verifications           5834 non-null object\n",
      "host_has_profile_pic         5819 non-null object\n",
      "host_identity_verified       5819 non-null object\n",
      "dtypes: float64(1), int64(2), object(11)\n",
      "memory usage: 638.2+ KB\n"
     ]
    }
   ],
   "source": [
    "host.info()"
   ]
  },
  {
   "cell_type": "code",
   "execution_count": 51,
   "metadata": {},
   "outputs": [],
   "source": [
    "# converting host_since to datetime\n",
    "host.host_since = pd.to_datetime(host.host_since)\n",
    "\n",
    "# str split host_reponse_time, grabbing only numeric value\n",
    "host.host_response_rate = host.host_response_rate.str.split('%').str[0]\n",
    "\n",
    "# converting numeric value into float\n",
    "host.host_response_rate = host['host_response_rate'].astype(float)\n",
    "# converting float to percent\n",
    "host.host_response_rate = host.host_response_rate/100\n",
    "\n",
    "\n",
    "# split str to grab numeric value\n",
    "host.host_acceptance_rate = host.host_acceptance_rate.str.split('%').str[0]\n",
    "\n",
    "# converting datatype to float\n",
    "host.host_acceptance_rate = host.host_acceptance_rate.astype(float)\n",
    "\n",
    "# converting to percentage\n",
    "host.host_acceptance_rate = host.host_acceptance_rate/100"
   ]
  },
  {
   "cell_type": "code",
   "execution_count": 52,
   "metadata": {},
   "outputs": [
    {
     "data": {
      "text/plain": [
       "0       f\n",
       "1       f\n",
       "2       f\n",
       "3       f\n",
       "4       f\n",
       "       ..\n",
       "5829    f\n",
       "5830    t\n",
       "5831    f\n",
       "5832    f\n",
       "5833    f\n",
       "Name: host_is_superhost, Length: 5834, dtype: object"
      ]
     },
     "execution_count": 52,
     "metadata": {},
     "output_type": "execute_result"
    }
   ],
   "source": [
    "# boolean datatype\n",
    "host.host_is_superhost"
   ]
  },
  {
   "cell_type": "code",
   "execution_count": 53,
   "metadata": {},
   "outputs": [],
   "source": [
    "i = {'t': 0, 'f': 1}"
   ]
  },
  {
   "cell_type": "code",
   "execution_count": 54,
   "metadata": {},
   "outputs": [],
   "source": [
    "# converting datatype to boolean\n",
    "host.host_is_superhost = host.host_is_superhost.map(i)\n",
    "\n",
    "host.host_has_profile_pic = host.host_has_profile_pic.map(i)\n",
    "\n",
    "host.host_identity_verified = host.host_identity_verified.map(i)\n"
   ]
  },
  {
   "cell_type": "code",
   "execution_count": 55,
   "metadata": {},
   "outputs": [
    {
     "name": "stdout",
     "output_type": "stream",
     "text": [
      "<class 'pandas.core.frame.DataFrame'>\n",
      "RangeIndex: 5834 entries, 0 to 5833\n",
      "Data columns (total 14 columns):\n",
      "id                           5834 non-null int64\n",
      "host_id                      5834 non-null int64\n",
      "host_name                    5819 non-null object\n",
      "host_since                   5819 non-null datetime64[ns]\n",
      "host_location                5809 non-null object\n",
      "host_response_time           4176 non-null object\n",
      "host_response_rate           4176 non-null float64\n",
      "host_acceptance_rate         3850 non-null float64\n",
      "host_is_superhost            5819 non-null float64\n",
      "host_neighbourhood           4977 non-null object\n",
      "host_total_listings_count    5819 non-null float64\n",
      "host_verifications           5834 non-null object\n",
      "host_has_profile_pic         5819 non-null float64\n",
      "host_identity_verified       5819 non-null float64\n",
      "dtypes: datetime64[ns](1), float64(6), int64(2), object(5)\n",
      "memory usage: 638.2+ KB\n"
     ]
    }
   ],
   "source": [
    "# checking datatype\n",
    "host.info()"
   ]
  },
  {
   "cell_type": "markdown",
   "metadata": {},
   "source": [
    "### Removing duplicates\n",
    "\n",
    "- Some host have multiple properties\n",
    "- We do not need duplicates\n",
    "- Create a unique host table since host info is the same for properties that have similar host"
   ]
  },
  {
   "cell_type": "code",
   "execution_count": 56,
   "metadata": {},
   "outputs": [
    {
     "data": {
      "text/plain": [
       "0       False\n",
       "1       False\n",
       "2       False\n",
       "3        True\n",
       "4       False\n",
       "        ...  \n",
       "5829     True\n",
       "5830     True\n",
       "5831     True\n",
       "5832    False\n",
       "5833    False\n",
       "Name: host_id, Length: 5834, dtype: bool"
      ]
     },
     "execution_count": 56,
     "metadata": {},
     "output_type": "execute_result"
    }
   ],
   "source": [
    "# There are duplicates for sure\n",
    "host['host_id'].duplicated()"
   ]
  },
  {
   "cell_type": "code",
   "execution_count": 57,
   "metadata": {},
   "outputs": [
    {
     "data": {
      "text/plain": [
       "4641823     127\n",
       "31148752     42\n",
       "8167447      26\n",
       "579290       18\n",
       "1488733      17\n",
       "           ... \n",
       "21734634      1\n",
       "419038        1\n",
       "24904632      1\n",
       "35575004      1\n",
       "29982720      1\n",
       "Name: host_id, Length: 4632, dtype: int64"
      ]
     },
     "execution_count": 57,
     "metadata": {},
     "output_type": "execute_result"
    }
   ],
   "source": [
    "# Confirmation that some host have mulitple connections to properties\n",
    "# host_id 4641823 has 127 properties on Airbnb listings\n",
    "host.host_id.value_counts()"
   ]
  },
  {
   "cell_type": "code",
   "execution_count": 58,
   "metadata": {},
   "outputs": [],
   "source": [
    "host.drop_duplicates(subset=['host_id'], inplace=True)"
   ]
  },
  {
   "cell_type": "code",
   "execution_count": 59,
   "metadata": {},
   "outputs": [
    {
     "data": {
      "text/plain": [
       "3655679     1\n",
       "410409      1\n",
       "31621829    1\n",
       "21359457    1\n",
       "9169608     1\n",
       "           ..\n",
       "3264154     1\n",
       "26543522    1\n",
       "2844918     1\n",
       "2852262     1\n",
       "29982720    1\n",
       "Name: host_id, Length: 4632, dtype: int64"
      ]
     },
     "execution_count": 59,
     "metadata": {},
     "output_type": "execute_result"
    }
   ],
   "source": [
    "# drop_duplicates has removed all duplicates, keeping only unique host_ids (aka the host)\n",
    "host.host_id.value_counts()"
   ]
  },
  {
   "cell_type": "code",
   "execution_count": 60,
   "metadata": {},
   "outputs": [],
   "source": [
    "# reset the index\n",
    "host.reset_index(drop=True, inplace=True)"
   ]
  },
  {
   "cell_type": "code",
   "execution_count": 61,
   "metadata": {},
   "outputs": [
    {
     "name": "stdout",
     "output_type": "stream",
     "text": [
      "<class 'pandas.core.frame.DataFrame'>\n",
      "RangeIndex: 4632 entries, 0 to 4631\n",
      "Data columns (total 14 columns):\n",
      "id                           4632 non-null int64\n",
      "host_id                      4632 non-null int64\n",
      "host_name                    4618 non-null object\n",
      "host_since                   4618 non-null datetime64[ns]\n",
      "host_location                4608 non-null object\n",
      "host_response_time           3023 non-null object\n",
      "host_response_rate           3023 non-null float64\n",
      "host_acceptance_rate         2718 non-null float64\n",
      "host_is_superhost            4618 non-null float64\n",
      "host_neighbourhood           3869 non-null object\n",
      "host_total_listings_count    4618 non-null float64\n",
      "host_verifications           4632 non-null object\n",
      "host_has_profile_pic         4618 non-null float64\n",
      "host_identity_verified       4618 non-null float64\n",
      "dtypes: datetime64[ns](1), float64(6), int64(2), object(5)\n",
      "memory usage: 506.8+ KB\n"
     ]
    }
   ],
   "source": [
    "# count 4632 unique host_ids, AWESOME!\n",
    "host.info()"
   ]
  },
  {
   "cell_type": "code",
   "execution_count": 62,
   "metadata": {},
   "outputs": [],
   "source": [
    "host.to_csv(\"1_host_unique.csv\", index=False)"
   ]
  },
  {
   "cell_type": "code",
   "execution_count": null,
   "metadata": {},
   "outputs": [],
   "source": []
  }
 ],
 "metadata": {
  "kernelspec": {
   "display_name": "Python 3",
   "language": "python",
   "name": "python3"
  },
  "language_info": {
   "codemirror_mode": {
    "name": "ipython",
    "version": 3
   },
   "file_extension": ".py",
   "mimetype": "text/x-python",
   "name": "python",
   "nbconvert_exporter": "python",
   "pygments_lexer": "ipython3",
   "version": "3.6.9"
  }
 },
 "nbformat": 4,
 "nbformat_minor": 4
}
