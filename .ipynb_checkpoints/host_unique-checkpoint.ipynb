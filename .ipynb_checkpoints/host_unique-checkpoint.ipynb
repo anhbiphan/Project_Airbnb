{
 "cells": [
  {
   "cell_type": "markdown",
   "metadata": {},
   "source": [
    "# Creating a unique host table\n",
    "\n",
    "Problem: \n",
    "- There are hosts with multiple properties\n",
    "\n",
    "Solution:\n",
    "- Create a sepereate table for unique host\n",
    "\n",
    "Side notes:\n",
    "- All host with multiple properties has identical information about the host\n",
    "- Creating a new table will not loss data\n",
    "- host_id will be the primary key that uniquely identifies the host"
   ]
  },
  {
   "cell_type": "code",
   "execution_count": 1,
   "metadata": {},
   "outputs": [],
   "source": [
    "import pandas as pd"
   ]
  },
  {
   "cell_type": "code",
   "execution_count": 71,
   "metadata": {},
   "outputs": [],
   "source": [
    "df = pd.read_csv('2_host.csv')"
   ]
  },
  {
   "cell_type": "code",
   "execution_count": 72,
   "metadata": {},
   "outputs": [
    {
     "name": "stdout",
     "output_type": "stream",
     "text": [
      "<class 'pandas.core.frame.DataFrame'>\n",
      "RangeIndex: 5834 entries, 0 to 5833\n",
      "Data columns (total 14 columns):\n",
      "id                           5834 non-null int64\n",
      "host_id                      5834 non-null int64\n",
      "host_name                    5819 non-null object\n",
      "host_since                   5819 non-null object\n",
      "host_location                5809 non-null object\n",
      "host_response_time           4176 non-null object\n",
      "host_response_rate           4176 non-null float64\n",
      "host_acceptance_rate         3850 non-null float64\n",
      "host_is_superhost            5834 non-null bool\n",
      "host_neighbourhood           4977 non-null object\n",
      "host_total_listings_count    5819 non-null float64\n",
      "host_verifications           5834 non-null object\n",
      "host_has_profile_pic         5834 non-null bool\n",
      "host_identity_verified       5834 non-null bool\n",
      "dtypes: bool(3), float64(3), int64(2), object(6)\n",
      "memory usage: 518.6+ KB\n"
     ]
    }
   ],
   "source": [
    "df.info()"
   ]
  },
  {
   "cell_type": "code",
   "execution_count": 63,
   "metadata": {},
   "outputs": [],
   "source": [
    "doop = df[df['host_id'].duplicated()]"
   ]
  },
  {
   "cell_type": "code",
   "execution_count": 74,
   "metadata": {},
   "outputs": [],
   "source": [
    "df.host_since = pd.to_datetime(df.host_since)"
   ]
  },
  {
   "cell_type": "code",
   "execution_count": 85,
   "metadata": {},
   "outputs": [
    {
     "data": {
      "text/plain": [
       "True    1202\n",
       "Name: host_has_profile_pic, dtype: int64"
      ]
     },
     "execution_count": 85,
     "metadata": {},
     "output_type": "execute_result"
    }
   ],
   "source": [
    "doop.host_has_profile_pic.value_counts()"
   ]
  },
  {
   "cell_type": "code",
   "execution_count": 76,
   "metadata": {},
   "outputs": [
    {
     "data": {
      "text/plain": [
       "4641823     126\n",
       "31148752     41\n",
       "8167447      25\n",
       "579290       17\n",
       "1488733      16\n",
       "           ... \n",
       "23857650      1\n",
       "8186          1\n",
       "26029087      1\n",
       "7902251       1\n",
       "29893670      1\n",
       "Name: host_id, Length: 568, dtype: int64"
      ]
     },
     "execution_count": 76,
     "metadata": {},
     "output_type": "execute_result"
    }
   ],
   "source": [
    "doop.host_id.value_counts()"
   ]
  },
  {
   "cell_type": "code",
   "execution_count": 77,
   "metadata": {},
   "outputs": [],
   "source": [
    "df.drop_duplicates(subset=['host_id'], inplace=True)"
   ]
  },
  {
   "cell_type": "code",
   "execution_count": 78,
   "metadata": {},
   "outputs": [
    {
     "name": "stdout",
     "output_type": "stream",
     "text": [
      "<class 'pandas.core.frame.DataFrame'>\n",
      "Int64Index: 4632 entries, 0 to 5833\n",
      "Data columns (total 14 columns):\n",
      "id                           4632 non-null int64\n",
      "host_id                      4632 non-null int64\n",
      "host_name                    4618 non-null object\n",
      "host_since                   4618 non-null datetime64[ns]\n",
      "host_location                4608 non-null object\n",
      "host_response_time           3023 non-null object\n",
      "host_response_rate           3023 non-null float64\n",
      "host_acceptance_rate         2718 non-null float64\n",
      "host_is_superhost            4632 non-null bool\n",
      "host_neighbourhood           3869 non-null object\n",
      "host_total_listings_count    4618 non-null float64\n",
      "host_verifications           4632 non-null object\n",
      "host_has_profile_pic         4632 non-null bool\n",
      "host_identity_verified       4632 non-null bool\n",
      "dtypes: bool(3), datetime64[ns](1), float64(3), int64(2), object(5)\n",
      "memory usage: 447.8+ KB\n"
     ]
    }
   ],
   "source": [
    "df.info()"
   ]
  },
  {
   "cell_type": "code",
   "execution_count": 88,
   "metadata": {},
   "outputs": [
    {
     "data": {
      "text/html": [
       "<div>\n",
       "<style scoped>\n",
       "    .dataframe tbody tr th:only-of-type {\n",
       "        vertical-align: middle;\n",
       "    }\n",
       "\n",
       "    .dataframe tbody tr th {\n",
       "        vertical-align: top;\n",
       "    }\n",
       "\n",
       "    .dataframe thead th {\n",
       "        text-align: right;\n",
       "    }\n",
       "</style>\n",
       "<table border=\"1\" class=\"dataframe\">\n",
       "  <thead>\n",
       "    <tr style=\"text-align: right;\">\n",
       "      <th></th>\n",
       "      <th>host_is_superhost</th>\n",
       "      <th>host_has_profile_pic</th>\n",
       "      <th>host_identity_verified</th>\n",
       "    </tr>\n",
       "  </thead>\n",
       "  <tbody>\n",
       "    <tr>\n",
       "      <td>0</td>\n",
       "      <td>False</td>\n",
       "      <td>True</td>\n",
       "      <td>False</td>\n",
       "    </tr>\n",
       "    <tr>\n",
       "      <td>1</td>\n",
       "      <td>False</td>\n",
       "      <td>True</td>\n",
       "      <td>True</td>\n",
       "    </tr>\n",
       "    <tr>\n",
       "      <td>2</td>\n",
       "      <td>False</td>\n",
       "      <td>True</td>\n",
       "      <td>True</td>\n",
       "    </tr>\n",
       "    <tr>\n",
       "      <td>4</td>\n",
       "      <td>False</td>\n",
       "      <td>True</td>\n",
       "      <td>True</td>\n",
       "    </tr>\n",
       "    <tr>\n",
       "      <td>5</td>\n",
       "      <td>False</td>\n",
       "      <td>True</td>\n",
       "      <td>False</td>\n",
       "    </tr>\n",
       "    <tr>\n",
       "      <td>...</td>\n",
       "      <td>...</td>\n",
       "      <td>...</td>\n",
       "      <td>...</td>\n",
       "    </tr>\n",
       "    <tr>\n",
       "      <td>5822</td>\n",
       "      <td>False</td>\n",
       "      <td>True</td>\n",
       "      <td>False</td>\n",
       "    </tr>\n",
       "    <tr>\n",
       "      <td>5825</td>\n",
       "      <td>False</td>\n",
       "      <td>True</td>\n",
       "      <td>True</td>\n",
       "    </tr>\n",
       "    <tr>\n",
       "      <td>5828</td>\n",
       "      <td>False</td>\n",
       "      <td>True</td>\n",
       "      <td>True</td>\n",
       "    </tr>\n",
       "    <tr>\n",
       "      <td>5832</td>\n",
       "      <td>False</td>\n",
       "      <td>True</td>\n",
       "      <td>True</td>\n",
       "    </tr>\n",
       "    <tr>\n",
       "      <td>5833</td>\n",
       "      <td>False</td>\n",
       "      <td>True</td>\n",
       "      <td>True</td>\n",
       "    </tr>\n",
       "  </tbody>\n",
       "</table>\n",
       "<p>4632 rows × 3 columns</p>\n",
       "</div>"
      ],
      "text/plain": [
       "      host_is_superhost  host_has_profile_pic  host_identity_verified\n",
       "0                 False                  True                   False\n",
       "1                 False                  True                    True\n",
       "2                 False                  True                    True\n",
       "4                 False                  True                    True\n",
       "5                 False                  True                   False\n",
       "...                 ...                   ...                     ...\n",
       "5822              False                  True                   False\n",
       "5825              False                  True                    True\n",
       "5828              False                  True                    True\n",
       "5832              False                  True                    True\n",
       "5833              False                  True                    True\n",
       "\n",
       "[4632 rows x 3 columns]"
      ]
     },
     "execution_count": 88,
     "metadata": {},
     "output_type": "execute_result"
    }
   ],
   "source": [
    "df[['host_is_superhost', 'host_has_profile_pic', 'host_identity_verified']]"
   ]
  },
  {
   "cell_type": "code",
   "execution_count": null,
   "metadata": {},
   "outputs": [],
   "source": [
    "for i in df[]"
   ]
  },
  {
   "cell_type": "code",
   "execution_count": 79,
   "metadata": {},
   "outputs": [],
   "source": [
    "df.to_csv('2_host_unique.csv', index= False)"
   ]
  },
  {
   "cell_type": "code",
   "execution_count": null,
   "metadata": {},
   "outputs": [],
   "source": []
  }
 ],
 "metadata": {
  "kernelspec": {
   "display_name": "Python 3",
   "language": "python",
   "name": "python3"
  },
  "language_info": {
   "codemirror_mode": {
    "name": "ipython",
    "version": 3
   },
   "file_extension": ".py",
   "mimetype": "text/x-python",
   "name": "python",
   "nbconvert_exporter": "python",
   "pygments_lexer": "ipython3",
   "version": "3.6.9"
  }
 },
 "nbformat": 4,
 "nbformat_minor": 4
}
