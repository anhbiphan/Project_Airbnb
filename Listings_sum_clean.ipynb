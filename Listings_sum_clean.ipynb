{
 "cells": [
  {
   "cell_type": "markdown",
   "metadata": {},
   "source": [
    "# Cleaning Listing_summary.csv\n",
    "- listing_summary.csv"
   ]
  },
  {
   "cell_type": "code",
   "execution_count": 2,
   "metadata": {},
   "outputs": [],
   "source": [
    "import pandas as pd"
   ]
  },
  {
   "cell_type": "markdown",
   "metadata": {},
   "source": [
    "# Cleaning listing_summary"
   ]
  },
  {
   "cell_type": "code",
   "execution_count": 3,
   "metadata": {},
   "outputs": [],
   "source": [
    "listing_summary = pd.read_csv('airbnb_dataset/listings_summary.csv')"
   ]
  },
  {
   "cell_type": "code",
   "execution_count": 4,
   "metadata": {},
   "outputs": [
    {
     "data": {
      "text/html": [
       "<div>\n",
       "<style scoped>\n",
       "    .dataframe tbody tr th:only-of-type {\n",
       "        vertical-align: middle;\n",
       "    }\n",
       "\n",
       "    .dataframe tbody tr th {\n",
       "        vertical-align: top;\n",
       "    }\n",
       "\n",
       "    .dataframe thead th {\n",
       "        text-align: right;\n",
       "    }\n",
       "</style>\n",
       "<table border=\"1\" class=\"dataframe\">\n",
       "  <thead>\n",
       "    <tr style=\"text-align: right;\">\n",
       "      <th></th>\n",
       "      <th>id</th>\n",
       "      <th>name</th>\n",
       "      <th>host_id</th>\n",
       "      <th>host_name</th>\n",
       "      <th>neighbourhood_group</th>\n",
       "      <th>neighbourhood</th>\n",
       "      <th>latitude</th>\n",
       "      <th>longitude</th>\n",
       "      <th>room_type</th>\n",
       "      <th>price</th>\n",
       "      <th>minimum_nights</th>\n",
       "      <th>number_of_reviews</th>\n",
       "      <th>last_review</th>\n",
       "      <th>reviews_per_month</th>\n",
       "      <th>calculated_host_listings_count</th>\n",
       "      <th>availability_365</th>\n",
       "    </tr>\n",
       "  </thead>\n",
       "  <tbody>\n",
       "    <tr>\n",
       "      <td>0</td>\n",
       "      <td>72635</td>\n",
       "      <td>3 Private Bedrooms, SW Austin</td>\n",
       "      <td>377044</td>\n",
       "      <td>Jason &amp; Marcie</td>\n",
       "      <td>NaN</td>\n",
       "      <td>78739</td>\n",
       "      <td>30.202824</td>\n",
       "      <td>-97.884309</td>\n",
       "      <td>Private room</td>\n",
       "      <td>300</td>\n",
       "      <td>2</td>\n",
       "      <td>1</td>\n",
       "      <td>2011-03-21</td>\n",
       "      <td>0.02</td>\n",
       "      <td>1</td>\n",
       "      <td>240</td>\n",
       "    </tr>\n",
       "    <tr>\n",
       "      <td>1</td>\n",
       "      <td>5386323</td>\n",
       "      <td>Cricket Trailer</td>\n",
       "      <td>27922117</td>\n",
       "      <td>Michael</td>\n",
       "      <td>NaN</td>\n",
       "      <td>78739</td>\n",
       "      <td>30.199414</td>\n",
       "      <td>-97.900684</td>\n",
       "      <td>Private room</td>\n",
       "      <td>99</td>\n",
       "      <td>3</td>\n",
       "      <td>0</td>\n",
       "      <td>NaN</td>\n",
       "      <td>NaN</td>\n",
       "      <td>1</td>\n",
       "      <td>364</td>\n",
       "    </tr>\n",
       "    <tr>\n",
       "      <td>2</td>\n",
       "      <td>8826517</td>\n",
       "      <td>Private room 1 in South Austin</td>\n",
       "      <td>46230038</td>\n",
       "      <td>Ric</td>\n",
       "      <td>NaN</td>\n",
       "      <td>78739</td>\n",
       "      <td>30.168496</td>\n",
       "      <td>-97.864483</td>\n",
       "      <td>Private room</td>\n",
       "      <td>100</td>\n",
       "      <td>1</td>\n",
       "      <td>0</td>\n",
       "      <td>NaN</td>\n",
       "      <td>NaN</td>\n",
       "      <td>2</td>\n",
       "      <td>365</td>\n",
       "    </tr>\n",
       "    <tr>\n",
       "      <td>3</td>\n",
       "      <td>8828616</td>\n",
       "      <td>Private room 2 in South Austin</td>\n",
       "      <td>46230038</td>\n",
       "      <td>Ric</td>\n",
       "      <td>NaN</td>\n",
       "      <td>78739</td>\n",
       "      <td>30.168621</td>\n",
       "      <td>-97.864874</td>\n",
       "      <td>Private room</td>\n",
       "      <td>100</td>\n",
       "      <td>1</td>\n",
       "      <td>0</td>\n",
       "      <td>NaN</td>\n",
       "      <td>NaN</td>\n",
       "      <td>2</td>\n",
       "      <td>365</td>\n",
       "    </tr>\n",
       "    <tr>\n",
       "      <td>4</td>\n",
       "      <td>8536913</td>\n",
       "      <td>Brand-New 3BR Austin Home</td>\n",
       "      <td>31148752</td>\n",
       "      <td>Bo</td>\n",
       "      <td>NaN</td>\n",
       "      <td>78739</td>\n",
       "      <td>30.169426</td>\n",
       "      <td>-97.888319</td>\n",
       "      <td>Entire home/apt</td>\n",
       "      <td>599</td>\n",
       "      <td>2</td>\n",
       "      <td>0</td>\n",
       "      <td>NaN</td>\n",
       "      <td>NaN</td>\n",
       "      <td>2</td>\n",
       "      <td>358</td>\n",
       "    </tr>\n",
       "  </tbody>\n",
       "</table>\n",
       "</div>"
      ],
      "text/plain": [
       "        id                            name   host_id       host_name  \\\n",
       "0    72635   3 Private Bedrooms, SW Austin    377044  Jason & Marcie   \n",
       "1  5386323                 Cricket Trailer  27922117         Michael   \n",
       "2  8826517  Private room 1 in South Austin  46230038             Ric   \n",
       "3  8828616  Private room 2 in South Austin  46230038             Ric   \n",
       "4  8536913       Brand-New 3BR Austin Home  31148752              Bo   \n",
       "\n",
       "   neighbourhood_group  neighbourhood   latitude  longitude        room_type  \\\n",
       "0                  NaN          78739  30.202824 -97.884309     Private room   \n",
       "1                  NaN          78739  30.199414 -97.900684     Private room   \n",
       "2                  NaN          78739  30.168496 -97.864483     Private room   \n",
       "3                  NaN          78739  30.168621 -97.864874     Private room   \n",
       "4                  NaN          78739  30.169426 -97.888319  Entire home/apt   \n",
       "\n",
       "   price  minimum_nights  number_of_reviews last_review  reviews_per_month  \\\n",
       "0    300               2                  1  2011-03-21               0.02   \n",
       "1     99               3                  0         NaN                NaN   \n",
       "2    100               1                  0         NaN                NaN   \n",
       "3    100               1                  0         NaN                NaN   \n",
       "4    599               2                  0         NaN                NaN   \n",
       "\n",
       "   calculated_host_listings_count  availability_365  \n",
       "0                               1               240  \n",
       "1                               1               364  \n",
       "2                               2               365  \n",
       "3                               2               365  \n",
       "4                               2               358  "
      ]
     },
     "execution_count": 4,
     "metadata": {},
     "output_type": "execute_result"
    }
   ],
   "source": [
    "listing_summary.head()"
   ]
  },
  {
   "cell_type": "code",
   "execution_count": 5,
   "metadata": {},
   "outputs": [
    {
     "data": {
      "text/plain": [
       "Index(['id', 'name', 'host_id', 'host_name', 'neighbourhood_group',\n",
       "       'neighbourhood', 'latitude', 'longitude', 'room_type', 'price',\n",
       "       'minimum_nights', 'number_of_reviews', 'last_review',\n",
       "       'reviews_per_month', 'calculated_host_listings_count',\n",
       "       'availability_365'],\n",
       "      dtype='object')"
      ]
     },
     "execution_count": 5,
     "metadata": {},
     "output_type": "execute_result"
    }
   ],
   "source": [
    "listing_summary.columns"
   ]
  },
  {
   "cell_type": "code",
   "execution_count": 6,
   "metadata": {},
   "outputs": [],
   "source": [
    "listing_summary = listing_summary.drop(columns=['neighbourhood_group'])"
   ]
  },
  {
   "cell_type": "code",
   "execution_count": 7,
   "metadata": {},
   "outputs": [],
   "source": [
    "listing_summary.drop([5832], inplace=True)\n",
    "listing_summary.reset_index(drop=True, inplace=True)"
   ]
  },
  {
   "cell_type": "code",
   "execution_count": 8,
   "metadata": {},
   "outputs": [
    {
     "name": "stdout",
     "output_type": "stream",
     "text": [
      "<class 'pandas.core.frame.DataFrame'>\n",
      "RangeIndex: 5834 entries, 0 to 5833\n",
      "Data columns (total 15 columns):\n",
      "id                                5834 non-null int64\n",
      "name                              5834 non-null object\n",
      "host_id                           5834 non-null int64\n",
      "host_name                         5542 non-null object\n",
      "neighbourhood                     5834 non-null int64\n",
      "latitude                          5834 non-null float64\n",
      "longitude                         5834 non-null float64\n",
      "room_type                         5834 non-null object\n",
      "price                             5834 non-null int64\n",
      "minimum_nights                    5834 non-null int64\n",
      "number_of_reviews                 5834 non-null int64\n",
      "last_review                       3828 non-null object\n",
      "reviews_per_month                 3826 non-null float64\n",
      "calculated_host_listings_count    5834 non-null int64\n",
      "availability_365                  5834 non-null int64\n",
      "dtypes: float64(3), int64(8), object(4)\n",
      "memory usage: 683.8+ KB\n"
     ]
    }
   ],
   "source": [
    "listing_summary.info()"
   ]
  },
  {
   "cell_type": "code",
   "execution_count": 9,
   "metadata": {},
   "outputs": [],
   "source": [
    "# converting to datetime\n",
    "listing_summary.last_review = pd.to_datetime(listing_summary.last_review)"
   ]
  },
  {
   "cell_type": "code",
   "execution_count": 10,
   "metadata": {},
   "outputs": [
    {
     "data": {
      "text/plain": [
       "0      2011-03-21\n",
       "1             NaT\n",
       "2             NaT\n",
       "3             NaT\n",
       "4             NaT\n",
       "          ...    \n",
       "5829   2015-10-16\n",
       "5830   2015-10-19\n",
       "5831          NaT\n",
       "5832          NaT\n",
       "5833          NaT\n",
       "Name: last_review, Length: 5834, dtype: datetime64[ns]"
      ]
     },
     "execution_count": 10,
     "metadata": {},
     "output_type": "execute_result"
    }
   ],
   "source": [
    "listing_summary.last_review"
   ]
  },
  {
   "cell_type": "code",
   "execution_count": 11,
   "metadata": {},
   "outputs": [
    {
     "name": "stdout",
     "output_type": "stream",
     "text": [
      "<class 'pandas.core.frame.DataFrame'>\n",
      "RangeIndex: 5834 entries, 0 to 5833\n",
      "Data columns (total 15 columns):\n",
      "id                                5834 non-null int64\n",
      "name                              5834 non-null object\n",
      "host_id                           5834 non-null int64\n",
      "host_name                         5542 non-null object\n",
      "neighbourhood                     5834 non-null int64\n",
      "latitude                          5834 non-null float64\n",
      "longitude                         5834 non-null float64\n",
      "room_type                         5834 non-null object\n",
      "price                             5834 non-null int64\n",
      "minimum_nights                    5834 non-null int64\n",
      "number_of_reviews                 5834 non-null int64\n",
      "last_review                       3828 non-null datetime64[ns]\n",
      "reviews_per_month                 3826 non-null float64\n",
      "calculated_host_listings_count    5834 non-null int64\n",
      "availability_365                  5834 non-null int64\n",
      "dtypes: datetime64[ns](1), float64(3), int64(8), object(3)\n",
      "memory usage: 683.8+ KB\n"
     ]
    }
   ],
   "source": [
    "listing_summary.info()"
   ]
  },
  {
   "cell_type": "code",
   "execution_count": 12,
   "metadata": {},
   "outputs": [],
   "source": [
    "# save cleaned dataframe\n",
    "listing_summary.to_csv(\"1_listings_sum_clean.csv\", index=False)"
   ]
  },
  {
   "cell_type": "code",
   "execution_count": null,
   "metadata": {},
   "outputs": [],
   "source": []
  }
 ],
 "metadata": {
  "kernelspec": {
   "display_name": "Python 3",
   "language": "python",
   "name": "python3"
  },
  "language_info": {
   "codemirror_mode": {
    "name": "ipython",
    "version": 3
   },
   "file_extension": ".py",
   "mimetype": "text/x-python",
   "name": "python",
   "nbconvert_exporter": "python",
   "pygments_lexer": "ipython3",
   "version": "3.6.9"
  }
 },
 "nbformat": 4,
 "nbformat_minor": 4
}
