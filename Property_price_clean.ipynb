{
 "cells": [
  {
   "cell_type": "code",
   "execution_count": null,
   "metadata": {},
   "outputs": [],
   "source": []
  },
  {
   "cell_type": "code",
   "execution_count": 1,
   "metadata": {},
   "outputs": [],
   "source": [
    "import pandas as pd"
   ]
  },
  {
   "cell_type": "code",
   "execution_count": 2,
   "metadata": {},
   "outputs": [],
   "source": [
    "df = pd.read_csv('split_property_price.csv')"
   ]
  },
  {
   "cell_type": "code",
   "execution_count": 3,
   "metadata": {},
   "outputs": [
    {
     "data": {
      "text/html": [
       "<div>\n",
       "<style scoped>\n",
       "    .dataframe tbody tr th:only-of-type {\n",
       "        vertical-align: middle;\n",
       "    }\n",
       "\n",
       "    .dataframe tbody tr th {\n",
       "        vertical-align: top;\n",
       "    }\n",
       "\n",
       "    .dataframe thead th {\n",
       "        text-align: right;\n",
       "    }\n",
       "</style>\n",
       "<table border=\"1\" class=\"dataframe\">\n",
       "  <thead>\n",
       "    <tr style=\"text-align: right;\">\n",
       "      <th></th>\n",
       "      <th>id</th>\n",
       "      <th>price</th>\n",
       "      <th>weekly_price</th>\n",
       "      <th>monthly_price</th>\n",
       "      <th>security_deposit</th>\n",
       "      <th>cleaning_fee</th>\n",
       "      <th>guests_included</th>\n",
       "      <th>extra_people</th>\n",
       "      <th>minimum_nights</th>\n",
       "      <th>maximum_nights</th>\n",
       "      <th>has_availability</th>\n",
       "      <th>availability_30</th>\n",
       "      <th>availability_60</th>\n",
       "      <th>availability_90</th>\n",
       "      <th>availability_365</th>\n",
       "      <th>calendar_last_scraped</th>\n",
       "    </tr>\n",
       "  </thead>\n",
       "  <tbody>\n",
       "    <tr>\n",
       "      <td>0</td>\n",
       "      <td>72635</td>\n",
       "      <td>$300.00</td>\n",
       "      <td>NaN</td>\n",
       "      <td>NaN</td>\n",
       "      <td>NaN</td>\n",
       "      <td>NaN</td>\n",
       "      <td>1</td>\n",
       "      <td>$0.00</td>\n",
       "      <td>2</td>\n",
       "      <td>10</td>\n",
       "      <td>t</td>\n",
       "      <td>0</td>\n",
       "      <td>0</td>\n",
       "      <td>0</td>\n",
       "      <td>240</td>\n",
       "      <td>2015-11-07</td>\n",
       "    </tr>\n",
       "    <tr>\n",
       "      <td>1</td>\n",
       "      <td>5386323</td>\n",
       "      <td>$99.00</td>\n",
       "      <td>$600.00</td>\n",
       "      <td>NaN</td>\n",
       "      <td>$1,000.00</td>\n",
       "      <td>$75.00</td>\n",
       "      <td>1</td>\n",
       "      <td>$0.00</td>\n",
       "      <td>3</td>\n",
       "      <td>7</td>\n",
       "      <td>t</td>\n",
       "      <td>29</td>\n",
       "      <td>59</td>\n",
       "      <td>89</td>\n",
       "      <td>364</td>\n",
       "      <td>2015-11-07</td>\n",
       "    </tr>\n",
       "    <tr>\n",
       "      <td>2</td>\n",
       "      <td>8826517</td>\n",
       "      <td>$100.00</td>\n",
       "      <td>NaN</td>\n",
       "      <td>NaN</td>\n",
       "      <td>NaN</td>\n",
       "      <td>NaN</td>\n",
       "      <td>1</td>\n",
       "      <td>$0.00</td>\n",
       "      <td>1</td>\n",
       "      <td>1125</td>\n",
       "      <td>t</td>\n",
       "      <td>30</td>\n",
       "      <td>60</td>\n",
       "      <td>90</td>\n",
       "      <td>365</td>\n",
       "      <td>2015-11-07</td>\n",
       "    </tr>\n",
       "    <tr>\n",
       "      <td>3</td>\n",
       "      <td>8828616</td>\n",
       "      <td>$100.00</td>\n",
       "      <td>NaN</td>\n",
       "      <td>NaN</td>\n",
       "      <td>NaN</td>\n",
       "      <td>NaN</td>\n",
       "      <td>1</td>\n",
       "      <td>$0.00</td>\n",
       "      <td>1</td>\n",
       "      <td>1125</td>\n",
       "      <td>t</td>\n",
       "      <td>30</td>\n",
       "      <td>60</td>\n",
       "      <td>90</td>\n",
       "      <td>365</td>\n",
       "      <td>2015-11-07</td>\n",
       "    </tr>\n",
       "    <tr>\n",
       "      <td>4</td>\n",
       "      <td>8536913</td>\n",
       "      <td>$599.00</td>\n",
       "      <td>NaN</td>\n",
       "      <td>NaN</td>\n",
       "      <td>NaN</td>\n",
       "      <td>$125.00</td>\n",
       "      <td>1</td>\n",
       "      <td>$0.00</td>\n",
       "      <td>2</td>\n",
       "      <td>1125</td>\n",
       "      <td>t</td>\n",
       "      <td>27</td>\n",
       "      <td>57</td>\n",
       "      <td>87</td>\n",
       "      <td>358</td>\n",
       "      <td>2015-11-07</td>\n",
       "    </tr>\n",
       "  </tbody>\n",
       "</table>\n",
       "</div>"
      ],
      "text/plain": [
       "        id    price weekly_price monthly_price security_deposit cleaning_fee  \\\n",
       "0    72635  $300.00          NaN           NaN              NaN          NaN   \n",
       "1  5386323   $99.00      $600.00           NaN        $1,000.00       $75.00   \n",
       "2  8826517  $100.00          NaN           NaN              NaN          NaN   \n",
       "3  8828616  $100.00          NaN           NaN              NaN          NaN   \n",
       "4  8536913  $599.00          NaN           NaN              NaN      $125.00   \n",
       "\n",
       "   guests_included extra_people  minimum_nights  maximum_nights  \\\n",
       "0                1        $0.00               2              10   \n",
       "1                1        $0.00               3               7   \n",
       "2                1        $0.00               1            1125   \n",
       "3                1        $0.00               1            1125   \n",
       "4                1        $0.00               2            1125   \n",
       "\n",
       "  has_availability  availability_30  availability_60  availability_90  \\\n",
       "0                t                0                0                0   \n",
       "1                t               29               59               89   \n",
       "2                t               30               60               90   \n",
       "3                t               30               60               90   \n",
       "4                t               27               57               87   \n",
       "\n",
       "   availability_365 calendar_last_scraped  \n",
       "0               240            2015-11-07  \n",
       "1               364            2015-11-07  \n",
       "2               365            2015-11-07  \n",
       "3               365            2015-11-07  \n",
       "4               358            2015-11-07  "
      ]
     },
     "execution_count": 3,
     "metadata": {},
     "output_type": "execute_result"
    }
   ],
   "source": [
    "df.head()"
   ]
  },
  {
   "cell_type": "code",
   "execution_count": 4,
   "metadata": {},
   "outputs": [
    {
     "name": "stdout",
     "output_type": "stream",
     "text": [
      "<class 'pandas.core.frame.DataFrame'>\n",
      "RangeIndex: 5834 entries, 0 to 5833\n",
      "Data columns (total 16 columns):\n",
      "id                       5834 non-null int64\n",
      "price                    5834 non-null object\n",
      "weekly_price             2227 non-null object\n",
      "monthly_price            1717 non-null object\n",
      "security_deposit         2770 non-null object\n",
      "cleaning_fee             3586 non-null object\n",
      "guests_included          5834 non-null int64\n",
      "extra_people             5834 non-null object\n",
      "minimum_nights           5834 non-null int64\n",
      "maximum_nights           5834 non-null int64\n",
      "has_availability         5834 non-null object\n",
      "availability_30          5834 non-null int64\n",
      "availability_60          5834 non-null int64\n",
      "availability_90          5834 non-null int64\n",
      "availability_365         5834 non-null int64\n",
      "calendar_last_scraped    5834 non-null object\n",
      "dtypes: int64(8), object(8)\n",
      "memory usage: 729.4+ KB\n"
     ]
    }
   ],
   "source": [
    "df.info()"
   ]
  },
  {
   "cell_type": "code",
   "execution_count": 7,
   "metadata": {},
   "outputs": [],
   "source": [
    "# # split the $ symbol\n",
    "# # replace any commas\n",
    "# # convert into float\n",
    "df.price = df.price.str.split('$').str[1]\n",
    "df.price = df.price.replace(',', '', regex=True)\n",
    "df.price = df.price.astype(float)"
   ]
  },
  {
   "cell_type": "code",
   "execution_count": 8,
   "metadata": {},
   "outputs": [],
   "source": [
    "df.weekly_price = df.weekly_price.str.split('$').str[1]\n",
    "df.weekly_price = df.weekly_price.replace(',', '', regex=True)\n",
    "df.weekly_price = df.weekly_price.astype(float)"
   ]
  },
  {
   "cell_type": "code",
   "execution_count": 9,
   "metadata": {},
   "outputs": [],
   "source": [
    "df.monthly_price = df.monthly_price.str.split('$').str[1]\n",
    "df.monthly_price = df.monthly_price.replace(',', '', regex=True)\n",
    "df.monthly_price = df.monthly_price.astype(float)"
   ]
  },
  {
   "cell_type": "code",
   "execution_count": 10,
   "metadata": {},
   "outputs": [],
   "source": [
    "df.security_deposit = df.security_deposit.str.split('$').str[1]\n",
    "df.security_deposit = df.security_deposit.replace(',', '', regex=True)\n",
    "df.security_deposit = df.security_deposit.astype(float)"
   ]
  },
  {
   "cell_type": "code",
   "execution_count": 11,
   "metadata": {},
   "outputs": [],
   "source": [
    "df.cleaning_fee = df.cleaning_fee.str.split('$').str[1]\n",
    "df.cleaning_fee = df.cleaning_fee.replace(',', '', regex=True)\n",
    "df.cleaning_fee = df.cleaning_fee.astype(float)"
   ]
  },
  {
   "cell_type": "code",
   "execution_count": 12,
   "metadata": {},
   "outputs": [],
   "source": [
    "df.extra_people = df.extra_people.str.split('$').str[1]\n",
    "df.extra_people = df.extra_people.astype(float)"
   ]
  },
  {
   "cell_type": "code",
   "execution_count": 14,
   "metadata": {},
   "outputs": [],
   "source": [
    "i = {'t':0, 'f':1}"
   ]
  },
  {
   "cell_type": "code",
   "execution_count": 15,
   "metadata": {},
   "outputs": [],
   "source": [
    "# applying boolean datatype\n",
    "df.has_availability = df.has_availability.map(i)\n",
    "df.has_availability = df.has_availability.astype(float)"
   ]
  },
  {
   "cell_type": "code",
   "execution_count": 16,
   "metadata": {},
   "outputs": [],
   "source": [
    "# converting to datetime\n",
    "df.calendar_last_scraped = pd.to_datetime(df.calendar_last_scraped)"
   ]
  },
  {
   "cell_type": "code",
   "execution_count": 17,
   "metadata": {},
   "outputs": [
    {
     "name": "stdout",
     "output_type": "stream",
     "text": [
      "<class 'pandas.core.frame.DataFrame'>\n",
      "RangeIndex: 5834 entries, 0 to 5833\n",
      "Data columns (total 16 columns):\n",
      "id                       5834 non-null int64\n",
      "price                    5834 non-null float64\n",
      "weekly_price             2227 non-null float64\n",
      "monthly_price            1717 non-null float64\n",
      "security_deposit         2770 non-null float64\n",
      "cleaning_fee             3586 non-null float64\n",
      "guests_included          5834 non-null int64\n",
      "extra_people             5834 non-null float64\n",
      "minimum_nights           5834 non-null int64\n",
      "maximum_nights           5834 non-null int64\n",
      "has_availability         5834 non-null float64\n",
      "availability_30          5834 non-null int64\n",
      "availability_60          5834 non-null int64\n",
      "availability_90          5834 non-null int64\n",
      "availability_365         5834 non-null int64\n",
      "calendar_last_scraped    5834 non-null datetime64[ns]\n",
      "dtypes: datetime64[ns](1), float64(7), int64(8)\n",
      "memory usage: 729.4 KB\n"
     ]
    }
   ],
   "source": [
    "df.info()"
   ]
  },
  {
   "cell_type": "code",
   "execution_count": 18,
   "metadata": {},
   "outputs": [],
   "source": [
    "df.to_csv('1_property_price_clean.csv', index=False)"
   ]
  },
  {
   "cell_type": "code",
   "execution_count": null,
   "metadata": {},
   "outputs": [],
   "source": []
  }
 ],
 "metadata": {
  "kernelspec": {
   "display_name": "Python 3",
   "language": "python",
   "name": "python3"
  },
  "language_info": {
   "codemirror_mode": {
    "name": "ipython",
    "version": 3
   },
   "file_extension": ".py",
   "mimetype": "text/x-python",
   "name": "python",
   "nbconvert_exporter": "python",
   "pygments_lexer": "ipython3",
   "version": "3.6.9"
  }
 },
 "nbformat": 4,
 "nbformat_minor": 4
}
