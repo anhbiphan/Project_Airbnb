{
 "cells": [
  {
   "cell_type": "markdown",
   "metadata": {},
   "source": [
    "# Spliting Tables\n",
    "- listing.csv\n",
    "    - spliting tables\n",
    "    - cleaning the split tables and saving as their own csv file\n",
    "<p>\n",
    "- creating tables\n",
    "    - split_host.csv\n",
    "    - split_property_features.csv\n",
    "    - split_property_prices.csv\n",
    "    - split_property_reviews.csv\n",
    "   </p>"
   ]
  },
  {
   "cell_type": "code",
   "execution_count": 17,
   "metadata": {},
   "outputs": [],
   "source": [
    "import pandas as pd"
   ]
  },
  {
   "cell_type": "code",
   "execution_count": 18,
   "metadata": {},
   "outputs": [],
   "source": [
    "listings = pd.read_csv('airbnb_dataset/listings.csv')"
   ]
  },
  {
   "cell_type": "code",
   "execution_count": 3,
   "metadata": {},
   "outputs": [
    {
     "data": {
      "text/plain": [
       "Index(['id', 'listing_url', 'scrape_id', 'last_scraped', 'name', 'summary',\n",
       "       'space', 'description', 'experiences_offered', 'neighborhood_overview',\n",
       "       'notes', 'transit', 'thumbnail_url', 'medium_url', 'picture_url',\n",
       "       'xl_picture_url', 'host_id', 'host_url', 'host_name', 'host_since',\n",
       "       'host_location', 'host_about', 'host_response_time',\n",
       "       'host_response_rate', 'host_acceptance_rate', 'host_is_superhost',\n",
       "       'host_thumbnail_url', 'host_picture_url', 'host_neighbourhood',\n",
       "       'host_listings_count', 'host_total_listings_count',\n",
       "       'host_verifications', 'host_has_profile_pic', 'host_identity_verified',\n",
       "       'street', 'neighbourhood', 'neighbourhood_cleansed',\n",
       "       'neighbourhood_group_cleansed', 'city', 'state', 'zipcode', 'market',\n",
       "       'smart_location', 'country_code', 'country', 'latitude', 'longitude',\n",
       "       'is_location_exact', 'property_type', 'room_type', 'accommodates',\n",
       "       'bathrooms', 'bedrooms', 'beds', 'bed_type', 'amenities', 'square_feet',\n",
       "       'price', 'weekly_price', 'monthly_price', 'security_deposit',\n",
       "       'cleaning_fee', 'guests_included', 'extra_people', 'minimum_nights',\n",
       "       'maximum_nights', 'calendar_updated', 'has_availability',\n",
       "       'availability_30', 'availability_60', 'availability_90',\n",
       "       'availability_365', 'calendar_last_scraped', 'number_of_reviews',\n",
       "       'first_review', 'last_review', 'review_scores_rating',\n",
       "       'review_scores_accuracy', 'review_scores_cleanliness',\n",
       "       'review_scores_checkin', 'review_scores_communication',\n",
       "       'review_scores_location', 'review_scores_value', 'requires_license',\n",
       "       'license', 'jurisdiction_names', 'instant_bookable',\n",
       "       'cancellation_policy', 'require_guest_profile_picture',\n",
       "       'require_guest_phone_verification', 'calculated_host_listings_count',\n",
       "       'reviews_per_month'],\n",
       "      dtype='object')"
      ]
     },
     "execution_count": 3,
     "metadata": {},
     "output_type": "execute_result"
    }
   ],
   "source": [
    "listings.columns"
   ]
  },
  {
   "cell_type": "code",
   "execution_count": 4,
   "metadata": {},
   "outputs": [
    {
     "data": {
      "text/html": [
       "<div>\n",
       "<style scoped>\n",
       "    .dataframe tbody tr th:only-of-type {\n",
       "        vertical-align: middle;\n",
       "    }\n",
       "\n",
       "    .dataframe tbody tr th {\n",
       "        vertical-align: top;\n",
       "    }\n",
       "\n",
       "    .dataframe thead th {\n",
       "        text-align: right;\n",
       "    }\n",
       "</style>\n",
       "<table border=\"1\" class=\"dataframe\">\n",
       "  <thead>\n",
       "    <tr style=\"text-align: right;\">\n",
       "      <th></th>\n",
       "      <th>id</th>\n",
       "      <th>listing_url</th>\n",
       "      <th>scrape_id</th>\n",
       "      <th>last_scraped</th>\n",
       "      <th>name</th>\n",
       "      <th>summary</th>\n",
       "      <th>space</th>\n",
       "      <th>description</th>\n",
       "      <th>experiences_offered</th>\n",
       "      <th>neighborhood_overview</th>\n",
       "      <th>...</th>\n",
       "      <th>review_scores_value</th>\n",
       "      <th>requires_license</th>\n",
       "      <th>license</th>\n",
       "      <th>jurisdiction_names</th>\n",
       "      <th>instant_bookable</th>\n",
       "      <th>cancellation_policy</th>\n",
       "      <th>require_guest_profile_picture</th>\n",
       "      <th>require_guest_phone_verification</th>\n",
       "      <th>calculated_host_listings_count</th>\n",
       "      <th>reviews_per_month</th>\n",
       "    </tr>\n",
       "  </thead>\n",
       "  <tbody>\n",
       "    <tr>\n",
       "      <td>0</td>\n",
       "      <td>72635</td>\n",
       "      <td>https://www.airbnb.com/rooms/72635</td>\n",
       "      <td>20151107173015</td>\n",
       "      <td>2015-11-08</td>\n",
       "      <td>3 Private Bedrooms, SW Austin</td>\n",
       "      <td>Conveniently located 10-15 from downtown in SW...</td>\n",
       "      <td>We have three spare bedrooms, each with a quee...</td>\n",
       "      <td>Conveniently located 10-15 from downtown in SW...</td>\n",
       "      <td>none</td>\n",
       "      <td>Location and convenience are key.  Easy access...</td>\n",
       "      <td>...</td>\n",
       "      <td>10.0</td>\n",
       "      <td>f</td>\n",
       "      <td>NaN</td>\n",
       "      <td>NaN</td>\n",
       "      <td>f</td>\n",
       "      <td>moderate</td>\n",
       "      <td>f</td>\n",
       "      <td>f</td>\n",
       "      <td>1</td>\n",
       "      <td>0.02</td>\n",
       "    </tr>\n",
       "    <tr>\n",
       "      <td>1</td>\n",
       "      <td>5386323</td>\n",
       "      <td>https://www.airbnb.com/rooms/5386323</td>\n",
       "      <td>20151107173015</td>\n",
       "      <td>2015-11-07</td>\n",
       "      <td>Cricket Trailer</td>\n",
       "      <td>Rent this cool concept trailer that has everyt...</td>\n",
       "      <td>Rental arrangements for this trailer allows yo...</td>\n",
       "      <td>Rent this cool concept trailer that has everyt...</td>\n",
       "      <td>none</td>\n",
       "      <td>We're talking about wherever you'd like in the...</td>\n",
       "      <td>...</td>\n",
       "      <td>NaN</td>\n",
       "      <td>f</td>\n",
       "      <td>NaN</td>\n",
       "      <td>NaN</td>\n",
       "      <td>f</td>\n",
       "      <td>moderate</td>\n",
       "      <td>f</td>\n",
       "      <td>f</td>\n",
       "      <td>1</td>\n",
       "      <td>NaN</td>\n",
       "    </tr>\n",
       "    <tr>\n",
       "      <td>2</td>\n",
       "      <td>8826517</td>\n",
       "      <td>https://www.airbnb.com/rooms/8826517</td>\n",
       "      <td>20151107173015</td>\n",
       "      <td>2015-11-07</td>\n",
       "      <td>Private room 1 in South Austin</td>\n",
       "      <td>Upstairs, private, 12ft x 13 1/2ft room.  Priv...</td>\n",
       "      <td>NaN</td>\n",
       "      <td>Upstairs, private, 12ft x 13 1/2ft room.  Priv...</td>\n",
       "      <td>none</td>\n",
       "      <td>NaN</td>\n",
       "      <td>...</td>\n",
       "      <td>NaN</td>\n",
       "      <td>f</td>\n",
       "      <td>NaN</td>\n",
       "      <td>NaN</td>\n",
       "      <td>f</td>\n",
       "      <td>flexible</td>\n",
       "      <td>f</td>\n",
       "      <td>f</td>\n",
       "      <td>2</td>\n",
       "      <td>NaN</td>\n",
       "    </tr>\n",
       "    <tr>\n",
       "      <td>3</td>\n",
       "      <td>8828616</td>\n",
       "      <td>https://www.airbnb.com/rooms/8828616</td>\n",
       "      <td>20151107173015</td>\n",
       "      <td>2015-11-08</td>\n",
       "      <td>Private room 2 in South Austin</td>\n",
       "      <td>Upstairs, private, 11ft x 13 1/2ft room.  Priv...</td>\n",
       "      <td>NaN</td>\n",
       "      <td>Upstairs, private, 11ft x 13 1/2ft room.  Priv...</td>\n",
       "      <td>none</td>\n",
       "      <td>NaN</td>\n",
       "      <td>...</td>\n",
       "      <td>NaN</td>\n",
       "      <td>f</td>\n",
       "      <td>NaN</td>\n",
       "      <td>NaN</td>\n",
       "      <td>f</td>\n",
       "      <td>flexible</td>\n",
       "      <td>f</td>\n",
       "      <td>f</td>\n",
       "      <td>2</td>\n",
       "      <td>NaN</td>\n",
       "    </tr>\n",
       "    <tr>\n",
       "      <td>4</td>\n",
       "      <td>8536913</td>\n",
       "      <td>https://www.airbnb.com/rooms/8536913</td>\n",
       "      <td>20151107173015</td>\n",
       "      <td>2015-11-08</td>\n",
       "      <td>Brand-New 3BR Austin Home</td>\n",
       "      <td>Brand-new 3BR/2BA Austin home with landscaped ...</td>\n",
       "      <td>Feel instantly at home at our brand new 3BR/2B...</td>\n",
       "      <td>Brand-new 3BR/2BA Austin home with landscaped ...</td>\n",
       "      <td>none</td>\n",
       "      <td>Entertainment and activities are plentiful her...</td>\n",
       "      <td>...</td>\n",
       "      <td>NaN</td>\n",
       "      <td>f</td>\n",
       "      <td>NaN</td>\n",
       "      <td>NaN</td>\n",
       "      <td>f</td>\n",
       "      <td>strict</td>\n",
       "      <td>f</td>\n",
       "      <td>f</td>\n",
       "      <td>2</td>\n",
       "      <td>NaN</td>\n",
       "    </tr>\n",
       "  </tbody>\n",
       "</table>\n",
       "<p>5 rows × 92 columns</p>\n",
       "</div>"
      ],
      "text/plain": [
       "        id                           listing_url       scrape_id last_scraped  \\\n",
       "0    72635    https://www.airbnb.com/rooms/72635  20151107173015   2015-11-08   \n",
       "1  5386323  https://www.airbnb.com/rooms/5386323  20151107173015   2015-11-07   \n",
       "2  8826517  https://www.airbnb.com/rooms/8826517  20151107173015   2015-11-07   \n",
       "3  8828616  https://www.airbnb.com/rooms/8828616  20151107173015   2015-11-08   \n",
       "4  8536913  https://www.airbnb.com/rooms/8536913  20151107173015   2015-11-08   \n",
       "\n",
       "                             name  \\\n",
       "0   3 Private Bedrooms, SW Austin   \n",
       "1                 Cricket Trailer   \n",
       "2  Private room 1 in South Austin   \n",
       "3  Private room 2 in South Austin   \n",
       "4       Brand-New 3BR Austin Home   \n",
       "\n",
       "                                             summary  \\\n",
       "0  Conveniently located 10-15 from downtown in SW...   \n",
       "1  Rent this cool concept trailer that has everyt...   \n",
       "2  Upstairs, private, 12ft x 13 1/2ft room.  Priv...   \n",
       "3  Upstairs, private, 11ft x 13 1/2ft room.  Priv...   \n",
       "4  Brand-new 3BR/2BA Austin home with landscaped ...   \n",
       "\n",
       "                                               space  \\\n",
       "0  We have three spare bedrooms, each with a quee...   \n",
       "1  Rental arrangements for this trailer allows yo...   \n",
       "2                                                NaN   \n",
       "3                                                NaN   \n",
       "4  Feel instantly at home at our brand new 3BR/2B...   \n",
       "\n",
       "                                         description experiences_offered  \\\n",
       "0  Conveniently located 10-15 from downtown in SW...                none   \n",
       "1  Rent this cool concept trailer that has everyt...                none   \n",
       "2  Upstairs, private, 12ft x 13 1/2ft room.  Priv...                none   \n",
       "3  Upstairs, private, 11ft x 13 1/2ft room.  Priv...                none   \n",
       "4  Brand-new 3BR/2BA Austin home with landscaped ...                none   \n",
       "\n",
       "                               neighborhood_overview  ... review_scores_value  \\\n",
       "0  Location and convenience are key.  Easy access...  ...                10.0   \n",
       "1  We're talking about wherever you'd like in the...  ...                 NaN   \n",
       "2                                                NaN  ...                 NaN   \n",
       "3                                                NaN  ...                 NaN   \n",
       "4  Entertainment and activities are plentiful her...  ...                 NaN   \n",
       "\n",
       "  requires_license license jurisdiction_names instant_bookable  \\\n",
       "0                f     NaN                NaN                f   \n",
       "1                f     NaN                NaN                f   \n",
       "2                f     NaN                NaN                f   \n",
       "3                f     NaN                NaN                f   \n",
       "4                f     NaN                NaN                f   \n",
       "\n",
       "  cancellation_policy  require_guest_profile_picture  \\\n",
       "0            moderate                              f   \n",
       "1            moderate                              f   \n",
       "2            flexible                              f   \n",
       "3            flexible                              f   \n",
       "4              strict                              f   \n",
       "\n",
       "  require_guest_phone_verification calculated_host_listings_count  \\\n",
       "0                                f                              1   \n",
       "1                                f                              1   \n",
       "2                                f                              2   \n",
       "3                                f                              2   \n",
       "4                                f                              2   \n",
       "\n",
       "  reviews_per_month  \n",
       "0              0.02  \n",
       "1               NaN  \n",
       "2               NaN  \n",
       "3               NaN  \n",
       "4               NaN  \n",
       "\n",
       "[5 rows x 92 columns]"
      ]
     },
     "execution_count": 4,
     "metadata": {},
     "output_type": "execute_result"
    }
   ],
   "source": [
    "listings.head()"
   ]
  },
  {
   "cell_type": "code",
   "execution_count": 19,
   "metadata": {},
   "outputs": [],
   "source": [
    "listings = listings.drop(columns= ['listing_url', 'scrape_id', 'last_scraped', 'name', 'summary',\n",
    "       'space', 'description', 'experiences_offered', 'neighborhood_overview',\n",
    "       'notes', 'transit', 'thumbnail_url', 'medium_url', 'picture_url',\n",
    "       'xl_picture_url', 'host_url','host_about', 'host_thumbnail_url', 'host_picture_url', 'host_listings_count', 'neighbourhood_cleansed',\n",
    "       'neighbourhood_group_cleansed',  'market',\n",
    "       'smart_location', 'calendar_updated', 'license', 'jurisdiction_names', 'requires_license'])"
   ]
  },
  {
   "cell_type": "code",
   "execution_count": 20,
   "metadata": {},
   "outputs": [
    {
     "data": {
      "text/plain": [
       "Index(['id', 'host_id', 'host_name', 'host_since', 'host_location',\n",
       "       'host_response_time', 'host_response_rate', 'host_acceptance_rate',\n",
       "       'host_is_superhost', 'host_neighbourhood', 'host_total_listings_count',\n",
       "       'host_verifications', 'host_has_profile_pic', 'host_identity_verified',\n",
       "       'street', 'neighbourhood', 'city', 'state', 'zipcode', 'country_code',\n",
       "       'country', 'latitude', 'longitude', 'is_location_exact',\n",
       "       'property_type', 'room_type', 'accommodates', 'bathrooms', 'bedrooms',\n",
       "       'beds', 'bed_type', 'amenities', 'square_feet', 'price', 'weekly_price',\n",
       "       'monthly_price', 'security_deposit', 'cleaning_fee', 'guests_included',\n",
       "       'extra_people', 'minimum_nights', 'maximum_nights', 'has_availability',\n",
       "       'availability_30', 'availability_60', 'availability_90',\n",
       "       'availability_365', 'calendar_last_scraped', 'number_of_reviews',\n",
       "       'first_review', 'last_review', 'review_scores_rating',\n",
       "       'review_scores_accuracy', 'review_scores_cleanliness',\n",
       "       'review_scores_checkin', 'review_scores_communication',\n",
       "       'review_scores_location', 'review_scores_value', 'instant_bookable',\n",
       "       'cancellation_policy', 'require_guest_profile_picture',\n",
       "       'require_guest_phone_verification', 'calculated_host_listings_count',\n",
       "       'reviews_per_month'],\n",
       "      dtype='object')"
      ]
     },
     "execution_count": 20,
     "metadata": {},
     "output_type": "execute_result"
    }
   ],
   "source": [
    "listings.columns"
   ]
  },
  {
   "cell_type": "code",
   "execution_count": 21,
   "metadata": {},
   "outputs": [
    {
     "name": "stdout",
     "output_type": "stream",
     "text": [
      "<class 'pandas.core.frame.DataFrame'>\n",
      "RangeIndex: 5835 entries, 0 to 5834\n",
      "Data columns (total 64 columns):\n",
      "id                                  5835 non-null int64\n",
      "host_id                             5835 non-null int64\n",
      "host_name                           5820 non-null object\n",
      "host_since                          5820 non-null object\n",
      "host_location                       5810 non-null object\n",
      "host_response_time                  4177 non-null object\n",
      "host_response_rate                  4177 non-null object\n",
      "host_acceptance_rate                3850 non-null object\n",
      "host_is_superhost                   5820 non-null object\n",
      "host_neighbourhood                  4977 non-null object\n",
      "host_total_listings_count           5820 non-null float64\n",
      "host_verifications                  5835 non-null object\n",
      "host_has_profile_pic                5820 non-null object\n",
      "host_identity_verified              5820 non-null object\n",
      "street                              5835 non-null object\n",
      "neighbourhood                       4800 non-null object\n",
      "city                                5835 non-null object\n",
      "state                               5835 non-null object\n",
      "zipcode                             5810 non-null float64\n",
      "country_code                        5835 non-null object\n",
      "country                             5835 non-null object\n",
      "latitude                            5835 non-null float64\n",
      "longitude                           5835 non-null float64\n",
      "is_location_exact                   5835 non-null object\n",
      "property_type                       5835 non-null object\n",
      "room_type                           5835 non-null object\n",
      "accommodates                        5835 non-null int64\n",
      "bathrooms                           5789 non-null float64\n",
      "bedrooms                            5829 non-null float64\n",
      "beds                                5812 non-null float64\n",
      "bed_type                            5835 non-null object\n",
      "amenities                           5835 non-null object\n",
      "square_feet                         302 non-null float64\n",
      "price                               5835 non-null object\n",
      "weekly_price                        2227 non-null object\n",
      "monthly_price                       1717 non-null object\n",
      "security_deposit                    2770 non-null object\n",
      "cleaning_fee                        3587 non-null object\n",
      "guests_included                     5835 non-null int64\n",
      "extra_people                        5835 non-null object\n",
      "minimum_nights                      5835 non-null int64\n",
      "maximum_nights                      5835 non-null int64\n",
      "has_availability                    5835 non-null object\n",
      "availability_30                     5835 non-null int64\n",
      "availability_60                     5835 non-null int64\n",
      "availability_90                     5835 non-null int64\n",
      "availability_365                    5835 non-null int64\n",
      "calendar_last_scraped               5835 non-null object\n",
      "number_of_reviews                   5835 non-null int64\n",
      "first_review                        3827 non-null object\n",
      "last_review                         3829 non-null object\n",
      "review_scores_rating                3789 non-null float64\n",
      "review_scores_accuracy              3776 non-null float64\n",
      "review_scores_cleanliness           3778 non-null float64\n",
      "review_scores_checkin               3778 non-null float64\n",
      "review_scores_communication         3778 non-null float64\n",
      "review_scores_location              3779 non-null float64\n",
      "review_scores_value                 3778 non-null float64\n",
      "instant_bookable                    5835 non-null object\n",
      "cancellation_policy                 5835 non-null object\n",
      "require_guest_profile_picture       5835 non-null object\n",
      "require_guest_phone_verification    5835 non-null object\n",
      "calculated_host_listings_count      5835 non-null int64\n",
      "reviews_per_month                   3827 non-null float64\n",
      "dtypes: float64(16), int64(12), object(36)\n",
      "memory usage: 2.8+ MB\n"
     ]
    }
   ],
   "source": [
    "listings.info()"
   ]
  },
  {
   "cell_type": "code",
   "execution_count": 22,
   "metadata": {},
   "outputs": [
    {
     "data": {
      "text/html": [
       "<div>\n",
       "<style scoped>\n",
       "    .dataframe tbody tr th:only-of-type {\n",
       "        vertical-align: middle;\n",
       "    }\n",
       "\n",
       "    .dataframe tbody tr th {\n",
       "        vertical-align: top;\n",
       "    }\n",
       "\n",
       "    .dataframe thead th {\n",
       "        text-align: right;\n",
       "    }\n",
       "</style>\n",
       "<table border=\"1\" class=\"dataframe\">\n",
       "  <thead>\n",
       "    <tr style=\"text-align: right;\">\n",
       "      <th></th>\n",
       "      <th>id</th>\n",
       "      <th>host_id</th>\n",
       "      <th>host_name</th>\n",
       "      <th>host_since</th>\n",
       "      <th>host_location</th>\n",
       "      <th>host_response_time</th>\n",
       "      <th>host_response_rate</th>\n",
       "      <th>host_acceptance_rate</th>\n",
       "      <th>host_is_superhost</th>\n",
       "      <th>host_neighbourhood</th>\n",
       "      <th>...</th>\n",
       "      <th>review_scores_checkin</th>\n",
       "      <th>review_scores_communication</th>\n",
       "      <th>review_scores_location</th>\n",
       "      <th>review_scores_value</th>\n",
       "      <th>instant_bookable</th>\n",
       "      <th>cancellation_policy</th>\n",
       "      <th>require_guest_profile_picture</th>\n",
       "      <th>require_guest_phone_verification</th>\n",
       "      <th>calculated_host_listings_count</th>\n",
       "      <th>reviews_per_month</th>\n",
       "    </tr>\n",
       "  </thead>\n",
       "  <tbody>\n",
       "    <tr>\n",
       "      <td>5832</td>\n",
       "      <td>3345881</td>\n",
       "      <td>14869844</td>\n",
       "      <td>Ramon</td>\n",
       "      <td>2014-04-29</td>\n",
       "      <td>Asturias. Spain</td>\n",
       "      <td>within an hour</td>\n",
       "      <td>100%</td>\n",
       "      <td>NaN</td>\n",
       "      <td>f</td>\n",
       "      <td>NaN</td>\n",
       "      <td>...</td>\n",
       "      <td>10.0</td>\n",
       "      <td>10.0</td>\n",
       "      <td>10.0</td>\n",
       "      <td>8.0</td>\n",
       "      <td>t</td>\n",
       "      <td>strict</td>\n",
       "      <td>f</td>\n",
       "      <td>f</td>\n",
       "      <td>1</td>\n",
       "      <td>0.17</td>\n",
       "    </tr>\n",
       "  </tbody>\n",
       "</table>\n",
       "<p>1 rows × 64 columns</p>\n",
       "</div>"
      ],
      "text/plain": [
       "           id   host_id host_name  host_since     host_location  \\\n",
       "5832  3345881  14869844     Ramon  2014-04-29   Asturias. Spain   \n",
       "\n",
       "     host_response_time host_response_rate host_acceptance_rate  \\\n",
       "5832     within an hour               100%                  NaN   \n",
       "\n",
       "     host_is_superhost host_neighbourhood  ...  review_scores_checkin  \\\n",
       "5832                 f                NaN  ...                   10.0   \n",
       "\n",
       "     review_scores_communication review_scores_location review_scores_value  \\\n",
       "5832                        10.0                   10.0                 8.0   \n",
       "\n",
       "     instant_bookable cancellation_policy require_guest_profile_picture  \\\n",
       "5832                t              strict                             f   \n",
       "\n",
       "     require_guest_phone_verification  calculated_host_listings_count  \\\n",
       "5832                                f                               1   \n",
       "\n",
       "     reviews_per_month  \n",
       "5832              0.17  \n",
       "\n",
       "[1 rows x 64 columns]"
      ]
     },
     "execution_count": 22,
     "metadata": {},
     "output_type": "execute_result"
    }
   ],
   "source": [
    "# data error\n",
    "# this proparty is in Spain, we need to remove this out of the data\n",
    "listings.loc[listings['city'] == 'Cangas de Onís']"
   ]
  },
  {
   "cell_type": "code",
   "execution_count": 23,
   "metadata": {},
   "outputs": [],
   "source": [
    "# remove data error\n",
    "# index has a proparty outside of Austin,TX\n",
    "listings.drop([5832], inplace=True)"
   ]
  },
  {
   "cell_type": "code",
   "execution_count": 34,
   "metadata": {},
   "outputs": [
    {
     "data": {
      "text/plain": [
       "5831          Austin\n",
       "5833      Round Rock\n",
       "5834    Pflugerville\n",
       "Name: city, dtype: object"
      ]
     },
     "execution_count": 34,
     "metadata": {},
     "output_type": "execute_result"
    }
   ],
   "source": [
    "# check if Spain property has been dropped\n",
    "# it has been dropped\n",
    "listings.loc[5831:].city"
   ]
  },
  {
   "cell_type": "code",
   "execution_count": 35,
   "metadata": {},
   "outputs": [],
   "source": [
    "# now we need to reset the index\n",
    "listings.reset_index(drop=True, inplace=True)"
   ]
  },
  {
   "cell_type": "code",
   "execution_count": 36,
   "metadata": {},
   "outputs": [
    {
     "data": {
      "text/plain": [
       "5831          Austin\n",
       "5832      Round Rock\n",
       "5833    Pflugerville\n",
       "Name: city, dtype: object"
      ]
     },
     "execution_count": 36,
     "metadata": {},
     "output_type": "execute_result"
    }
   ],
   "source": [
    "# our index is reset!\n",
    "listings.loc[5831:].city"
   ]
  },
  {
   "cell_type": "code",
   "execution_count": 41,
   "metadata": {},
   "outputs": [],
   "source": [
    "# creating a id column dataframe to concatenate to other tables\n",
    "id = listings.iloc[:,:1]"
   ]
  },
  {
   "cell_type": "markdown",
   "metadata": {},
   "source": [
    "## Splitting large table into smaller tables"
   ]
  },
  {
   "cell_type": "markdown",
   "metadata": {},
   "source": [
    "### Host table split"
   ]
  },
  {
   "cell_type": "code",
   "execution_count": 38,
   "metadata": {},
   "outputs": [],
   "source": [
    "host_cols = listings.columns[:14].tolist()\n",
    "host = listings.loc[:, (host_cols)]\n",
    "\n",
    "host.to_csv('split_host.csv', index=False)"
   ]
  },
  {
   "cell_type": "markdown",
   "metadata": {},
   "source": [
    "---"
   ]
  },
  {
   "cell_type": "markdown",
   "metadata": {},
   "source": [
    "### Property features table split"
   ]
  },
  {
   "cell_type": "code",
   "execution_count": 39,
   "metadata": {},
   "outputs": [],
   "source": [
    "property_features = listings.iloc[:, 14:33]"
   ]
  },
  {
   "cell_type": "code",
   "execution_count": 42,
   "metadata": {},
   "outputs": [],
   "source": [
    "property_features = pd.concat([id,property_features], axis=1)"
   ]
  },
  {
   "cell_type": "code",
   "execution_count": 45,
   "metadata": {},
   "outputs": [],
   "source": [
    "property_features.to_csv(\"split_property_features.csv\", index=False)"
   ]
  },
  {
   "cell_type": "markdown",
   "metadata": {},
   "source": [
    "---"
   ]
  },
  {
   "cell_type": "markdown",
   "metadata": {},
   "source": [
    "### Property Price + Availability table split"
   ]
  },
  {
   "cell_type": "code",
   "execution_count": 48,
   "metadata": {},
   "outputs": [],
   "source": [
    "property_price = listings.iloc[:, 33:48]"
   ]
  },
  {
   "cell_type": "code",
   "execution_count": 49,
   "metadata": {},
   "outputs": [],
   "source": [
    "property_price = pd.concat([id, property_price], axis=1)"
   ]
  },
  {
   "cell_type": "code",
   "execution_count": 50,
   "metadata": {},
   "outputs": [],
   "source": [
    "property_price.to_csv('split_property_price.csv', index=False)"
   ]
  },
  {
   "cell_type": "markdown",
   "metadata": {},
   "source": [
    "---"
   ]
  },
  {
   "cell_type": "markdown",
   "metadata": {},
   "source": [
    "#### Property Review table split"
   ]
  },
  {
   "cell_type": "code",
   "execution_count": 51,
   "metadata": {},
   "outputs": [],
   "source": [
    "property_reviews = listings.iloc[:, 48:]"
   ]
  },
  {
   "cell_type": "code",
   "execution_count": 52,
   "metadata": {},
   "outputs": [],
   "source": [
    "property_reviews = pd.concat([id, property_reviews], axis=1)"
   ]
  },
  {
   "cell_type": "code",
   "execution_count": 53,
   "metadata": {},
   "outputs": [],
   "source": [
    "property_reviews.to_csv('split_property_reviews.csv', index=False)"
   ]
  }
 ],
 "metadata": {
  "kernelspec": {
   "display_name": "Python 3",
   "language": "python",
   "name": "python3"
  },
  "language_info": {
   "codemirror_mode": {
    "name": "ipython",
    "version": 3
   },
   "file_extension": ".py",
   "mimetype": "text/x-python",
   "name": "python",
   "nbconvert_exporter": "python",
   "pygments_lexer": "ipython3",
   "version": "3.6.9"
  }
 },
 "nbformat": 4,
 "nbformat_minor": 4
}
